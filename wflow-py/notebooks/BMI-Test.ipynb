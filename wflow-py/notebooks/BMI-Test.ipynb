{
 "cells": [
  {
   "cell_type": "markdown",
   "metadata": {},
   "source": [
    "<h1>Basic test of the wflow BMI interface"
   ]
  },
  {
   "cell_type": "code",
   "execution_count": 14,
   "metadata": {
    "collapsed": false
   },
   "outputs": [
    {
     "name": "stdout",
     "output_type": "stream",
     "text": [
      "Populating the interactive namespace from numpy and matplotlib\n"
     ]
    }
   ],
   "source": [
    "import wflow.wflow_bmi as bmi\n",
    "import logging\n",
    "\n",
    "reload(bmi)\n",
    "%pylab inline \n",
    "import datetime\n",
    "from IPython.html.widgets import interact"
   ]
  },
  {
   "cell_type": "markdown",
   "metadata": {},
   "source": [
    "Startup two models:\n",
    "\n",
    "+ The wflow_sbm model calculates the runoff from each cell (the LA land-atmosphere model)\n",
    "+ the wflow_routing model that uses a kinimatic wave for routing the flow (the RT routing model)"
   ]
  },
  {
   "cell_type": "code",
   "execution_count": 15,
   "metadata": {
    "collapsed": false
   },
   "outputs": [
    {
     "name": "stdout",
     "output_type": "stream",
     "text": [
      "ERROR\n",
      "CanopyStorage\n",
      "FirstZoneDepth\n",
      "LowerZoneStorage\n",
      "Snow\n",
      "SnowWater\n",
      "SurfaceRunoff\n",
      "SurfaceRunoffDyn\n",
      "TSoil\n",
      "UStoreDepth\n",
      "WaterLevel\n",
      "WaterLevelDyn\n",
      "PotTransSoil\n",
      "Transpiration\n",
      "ActEvapOpenWater\n",
      "soilevap\n",
      "Interception\n",
      "ActEvap\n",
      "SurfaceRunoffCatchmentMM\n",
      "ExcessWater\n",
      "InfiltExcess\n",
      "ActInfilt\n",
      "zi\n",
      "Transfer\n",
      "CapFlux\n",
      "RunoffCoeff\n",
      "InwaterMM\n",
      "M\n",
      "thetaR\n",
      "thetaS\n",
      "FirstZoneKsatVer\n",
      "PathFrac\n",
      "InfiltCapSoil\n",
      "InfiltCapPath\n",
      "FirstZoneMinCapacity\n",
      "FirstZoneCapacity\n",
      "RootingDepth\n",
      "MaxLeakage\n",
      "CapScale\n",
      "RunoffGeneratingGWPerc\n",
      "rootdistpar\n",
      "CanopyGapFraction\n",
      "MaxCanopyStorage\n",
      "EoverR\n",
      "N\n",
      "N_river\n",
      "cf_soil\n",
      "TTI\n",
      "TT\n",
      "Cfmax\n",
      "WHC\n",
      "w_soil\n",
      "Altitude\n",
      "Bw\n",
      "River\n",
      "DLC\n",
      "IF\n",
      "ERROR\n"
     ]
    }
   ],
   "source": [
    "# This is the LAnd Atmophere (LA) model\n",
    "LA_model = bmi.wflowbmi_csdms()\n",
    "LA_model.initialize('../../examples/wflow_rhine_sbm/wflow_sbm.ini',loglevel=logging.ERROR)\n",
    "\n",
    "# This is the routing (RT) model\n",
    "RT_model = bmi.wflowbmi_csdms()\n",
    "RT_model.initialize('../../examples/wflow_rhine_sbm/wflow_routing.ini',loglevel=logging.ERROR)"
   ]
  },
  {
   "cell_type": "markdown",
   "metadata": {},
   "source": [
    "<h3>Now we can investigate some model parameters"
   ]
  },
  {
   "cell_type": "code",
   "execution_count": 16,
   "metadata": {
    "collapsed": false
   },
   "outputs": [
    {
     "name": "stdout",
     "output_type": "stream",
     "text": [
      "86400\n",
      "631152000\n"
     ]
    }
   ],
   "source": [
    "print(LA_model.get_value(\"timestepsecs\"))\n",
    "print LA_model.get_start_time()"
   ]
  },
  {
   "cell_type": "code",
   "execution_count": 17,
   "metadata": {
    "collapsed": false
   },
   "outputs": [
    {
     "data": {
      "text/plain": [
       "['inputmapstacks:Precipitation',\n",
       " 'inputmapstacks:EvapoTranspiration',\n",
       " 'inputmapstacks:Temperature',\n",
       " 'inputmapstacks:Inflow',\n",
       " 'run:runinfo',\n",
       " 'run:timestepsecs',\n",
       " 'run:reinit',\n",
       " 'run:starttime',\n",
       " 'model:modeltype',\n",
       " 'model:AnnualDischarge',\n",
       " 'model:Alpha',\n",
       " 'model:ModelSnow',\n",
       " 'model:ScalarInput',\n",
       " 'model:InterpolationMethod',\n",
       " 'model:WIMaxScale',\n",
       " 'model:Tslice',\n",
       " 'model:UpdMaxDist',\n",
       " 'model:origTopogLateral',\n",
       " 'model:configfile',\n",
       " 'model:reinit',\n",
       " 'model:fewsrun',\n",
       " 'model:OverWriteInit',\n",
       " 'model:updating',\n",
       " 'model:updateFile',\n",
       " 'model:lateralmethod',\n",
       " 'model:sCatch',\n",
       " 'model:intbl',\n",
       " 'model:timestepsecs',\n",
       " 'model:MaxUpdMult',\n",
       " 'model:MinUpdMult',\n",
       " 'model:UpFrac',\n",
       " 'model:waterdem',\n",
       " 'model:reInfilt',\n",
       " 'model:MassWasting',\n",
       " 'model:wflow_subcatch',\n",
       " 'model:wflow_dem',\n",
       " 'model:wflow_ldd',\n",
       " 'model:wflow_river',\n",
       " 'model:wflow_riverlength',\n",
       " 'model:wflow_riverlength_fact',\n",
       " 'model:wflow_landuse',\n",
       " 'model:wflow_soil',\n",
       " 'model:wflow_gauges',\n",
       " 'model:wflow_inflow',\n",
       " 'model:wflow_riverwidth',\n",
       " 'model:RunoffGenSigmaFunction',\n",
       " 'model:SubCatchFlowOnly',\n",
       " 'model:TemperatureCorrectionMap',\n",
       " 'framework:outputformat',\n",
       " 'framework:debug',\n",
       " 'framework:netcdfinput',\n",
       " 'framework:netcdfoutput',\n",
       " 'framework:netcdfstaticoutput',\n",
       " 'framework:netcdfstaticinput',\n",
       " 'framework:EPSG',\n",
       " 'framework:netcdfstatesinput',\n",
       " 'framework:netcdfstatesoutput',\n",
       " 'framework:netcdf_format',\n",
       " 'framework:netcdf_zlib',\n",
       " 'framework:netcdf_least_significant_digit',\n",
       " 'layout:sizeinmetres',\n",
       " 'outputmaps:self.Inflow',\n",
       " 'outputmaps:self.SurfaceRunoff',\n",
       " 'outputmaps:self.WaterLevel',\n",
       " 'outputmaps:self.FirstZoneDepth',\n",
       " 'outputmaps:self.InwaterMM',\n",
       " 'outputmaps:self.PotenEvap',\n",
       " 'outputmaps:self.Precipitation',\n",
       " 'outputmaps:self.MassBalKinWave',\n",
       " 'summary:self.MaxLeakage',\n",
       " 'summary_sum:self.Precipitation',\n",
       " 'summary_max:self.Precipitation',\n",
       " 'summary_avg:self.Precipitation',\n",
       " 'summary_avg:self.QCatchmentMM',\n",
       " 'outputcsv_0:samplemap',\n",
       " 'outputcsv_0:self.Transfer',\n",
       " 'outputtss_0:samplemap',\n",
       " 'outputtss_0:self.SurfaceRunoff',\n",
       " 'outputtss_0:self.WaterLevel',\n",
       " 'outputtss_1:samplemap',\n",
       " 'outputtss_1:self.ActLeakage',\n",
       " 'outputcsv_1:samplemap',\n",
       " 'outputcsv_1:self.InwaterMM',\n",
       " 'outputcsv_1:self.Precipitation',\n",
       " 'outputcsv_1:self.ActEvap+self.Interception',\n",
       " 'outputcsv_1:self.UStoreDepth + self.FirstZoneDepth + self.CanopyStorage',\n",
       " 'API:CanopyStorage',\n",
       " 'API:FirstZoneDepth',\n",
       " 'API:LowerZoneStorage',\n",
       " 'API:Snow',\n",
       " 'API:SnowWater',\n",
       " 'API:SurfaceRunoff',\n",
       " 'API:SurfaceRunoffDyn',\n",
       " 'API:TSoil',\n",
       " 'API:UStoreDepth',\n",
       " 'API:WaterLevel',\n",
       " 'API:WaterLevelDyn',\n",
       " 'API:PotTransSoil',\n",
       " 'API:Transpiration',\n",
       " 'API:ActEvapOpenWater',\n",
       " 'API:soilevap',\n",
       " 'API:Interception',\n",
       " 'API:ActEvap',\n",
       " 'API:SurfaceRunoffCatchmentMM',\n",
       " 'API:ExcessWater',\n",
       " 'API:InfiltExcess',\n",
       " 'API:ActInfilt',\n",
       " 'API:zi',\n",
       " 'API:Transfer',\n",
       " 'API:CapFlux',\n",
       " 'API:RunoffCoeff',\n",
       " 'API:InwaterMM',\n",
       " 'API:M',\n",
       " 'API:thetaR',\n",
       " 'API:thetaS',\n",
       " 'API:FirstZoneKsatVer',\n",
       " 'API:PathFrac',\n",
       " 'API:InfiltCapSoil',\n",
       " 'API:InfiltCapPath',\n",
       " 'API:FirstZoneMinCapacity',\n",
       " 'API:FirstZoneCapacity',\n",
       " 'API:RootingDepth',\n",
       " 'API:MaxLeakage',\n",
       " 'API:CapScale',\n",
       " 'API:RunoffGeneratingGWPerc',\n",
       " 'API:rootdistpar',\n",
       " 'API:CanopyGapFraction',\n",
       " 'API:MaxCanopyStorage',\n",
       " 'API:EoverR',\n",
       " 'API:N',\n",
       " 'API:N_river',\n",
       " 'API:cf_soil',\n",
       " 'API:TTI',\n",
       " 'API:TT',\n",
       " 'API:Cfmax',\n",
       " 'API:WHC',\n",
       " 'API:w_soil',\n",
       " 'API:Altitude',\n",
       " 'API:Bw',\n",
       " 'API:River',\n",
       " 'API:DLC',\n",
       " 'API:IF',\n",
       " 'API:timestepsecs',\n",
       " 'outputcsv_2:samplemap',\n",
       " 'outputtss_2:samplemap']"
      ]
     },
     "execution_count": 17,
     "metadata": {},
     "output_type": "execute_result"
    }
   ],
   "source": [
    "LA_model.get_attribute_names()"
   ]
  },
  {
   "cell_type": "code",
   "execution_count": 18,
   "metadata": {
    "collapsed": false
   },
   "outputs": [
    {
     "data": {
      "text/plain": [
       "'0'"
      ]
     },
     "execution_count": 18,
     "metadata": {},
     "output_type": "execute_result"
    }
   ],
   "source": [
    "LA_model.get_attribute_value(\"run:reinit\")"
   ]
  },
  {
   "cell_type": "code",
   "execution_count": 19,
   "metadata": {
    "collapsed": false
   },
   "outputs": [
    {
     "data": {
      "text/plain": [
       "'1'"
      ]
     },
     "execution_count": 19,
     "metadata": {},
     "output_type": "execute_result"
    }
   ],
   "source": [
    "LA_model.set_attribute_value(\"run:reinit\",'1')\n",
    "LA_model.get_attribute_value(\"run:reinit\")"
   ]
  },
  {
   "cell_type": "code",
   "execution_count": 20,
   "metadata": {
    "collapsed": false
   },
   "outputs": [
    {
     "data": {
      "text/plain": [
       "<matplotlib.image.AxesImage at 0x7fa2f4a93710>"
      ]
     },
     "execution_count": 20,
     "metadata": {},
     "output_type": "execute_result"
    },
    {
     "data": {
      "image/png": "[encoded data removed]",
      "text/plain": [
       "<matplotlib.figure.Figure at 0x7fa2f4cb2550>"
      ]
     },
     "metadata": {},
     "output_type": "display_data"
    }
   ],
   "source": [
    "imshow(LA_model.get_value(\"Altitude\"))"
   ]
  },
  {
   "cell_type": "code",
   "execution_count": 21,
   "metadata": {
    "collapsed": false
   },
   "outputs": [
    {
     "name": "stderr",
     "output_type": "stream",
     "text": [
      "2015-12-18 09:39:21,428 - wflow_bmi_logging - ERROR - get_value: Slope not in list of output values ['CanopyStorage', 'FirstZoneDepth', 'LowerZoneStorage', 'Snow', 'SnowWater', 'SurfaceRunoff', 'SurfaceRunoffDyn', 'TSoil', 'UStoreDepth', 'WaterLevel', 'WaterLevelDyn', 'InwaterMM', 'M', 'thetaR', 'thetaS', 'FirstZoneKsatVer', 'PathFrac', 'InfiltCapSoil', 'InfiltCapPath', 'FirstZoneMinCapacity', 'FirstZoneCapacity', 'RootingDepth', 'MaxLeakage', 'CapScale', 'RunoffGeneratingGWPerc', 'rootdistpar', 'CanopyGapFraction', 'MaxCanopyStorage', 'EoverR', 'N', 'N_river', 'cf_soil', 'TTI', 'TT', 'Cfmax', 'WHC', 'w_soil', 'Altitude', 'Bw', 'River', 'DLC', 'IF', 'timestepsecs']\n",
      "2015-12-18 09:39:21,428 - wflow_bmi_logging - ERROR - get_value: Slope not in list of output values ['CanopyStorage', 'FirstZoneDepth', 'LowerZoneStorage', 'Snow', 'SnowWater', 'SurfaceRunoff', 'SurfaceRunoffDyn', 'TSoil', 'UStoreDepth', 'WaterLevel', 'WaterLevelDyn', 'InwaterMM', 'M', 'thetaR', 'thetaS', 'FirstZoneKsatVer', 'PathFrac', 'InfiltCapSoil', 'InfiltCapPath', 'FirstZoneMinCapacity', 'FirstZoneCapacity', 'RootingDepth', 'MaxLeakage', 'CapScale', 'RunoffGeneratingGWPerc', 'rootdistpar', 'CanopyGapFraction', 'MaxCanopyStorage', 'EoverR', 'N', 'N_river', 'cf_soil', 'TTI', 'TT', 'Cfmax', 'WHC', 'w_soil', 'Altitude', 'Bw', 'River', 'DLC', 'IF', 'timestepsecs']\n",
      "2015-12-18 09:39:21,428 - wflow_bmi_logging - ERROR - get_value: Slope not in list of output values ['CanopyStorage', 'FirstZoneDepth', 'LowerZoneStorage', 'Snow', 'SnowWater', 'SurfaceRunoff', 'SurfaceRunoffDyn', 'TSoil', 'UStoreDepth', 'WaterLevel', 'WaterLevelDyn', 'InwaterMM', 'M', 'thetaR', 'thetaS', 'FirstZoneKsatVer', 'PathFrac', 'InfiltCapSoil', 'InfiltCapPath', 'FirstZoneMinCapacity', 'FirstZoneCapacity', 'RootingDepth', 'MaxLeakage', 'CapScale', 'RunoffGeneratingGWPerc', 'rootdistpar', 'CanopyGapFraction', 'MaxCanopyStorage', 'EoverR', 'N', 'N_river', 'cf_soil', 'TTI', 'TT', 'Cfmax', 'WHC', 'w_soil', 'Altitude', 'Bw', 'River', 'DLC', 'IF', 'timestepsecs']\n",
      "2015-12-18 09:39:21,428 - wflow_bmi_logging - ERROR - get_value: Slope not in list of output values ['CanopyStorage', 'FirstZoneDepth', 'LowerZoneStorage', 'Snow', 'SnowWater', 'SurfaceRunoff', 'SurfaceRunoffDyn', 'TSoil', 'UStoreDepth', 'WaterLevel', 'WaterLevelDyn', 'InwaterMM', 'M', 'thetaR', 'thetaS', 'FirstZoneKsatVer', 'PathFrac', 'InfiltCapSoil', 'InfiltCapPath', 'FirstZoneMinCapacity', 'FirstZoneCapacity', 'RootingDepth', 'MaxLeakage', 'CapScale', 'RunoffGeneratingGWPerc', 'rootdistpar', 'CanopyGapFraction', 'MaxCanopyStorage', 'EoverR', 'N', 'N_river', 'cf_soil', 'TTI', 'TT', 'Cfmax', 'WHC', 'w_soil', 'Altitude', 'Bw', 'River', 'DLC', 'IF', 'timestepsecs']\n",
      "ERROR:wflow_bmi_logging:get_value: Slope not in list of output values ['CanopyStorage', 'FirstZoneDepth', 'LowerZoneStorage', 'Snow', 'SnowWater', 'SurfaceRunoff', 'SurfaceRunoffDyn', 'TSoil', 'UStoreDepth', 'WaterLevel', 'WaterLevelDyn', 'InwaterMM', 'M', 'thetaR', 'thetaS', 'FirstZoneKsatVer', 'PathFrac', 'InfiltCapSoil', 'InfiltCapPath', 'FirstZoneMinCapacity', 'FirstZoneCapacity', 'RootingDepth', 'MaxLeakage', 'CapScale', 'RunoffGeneratingGWPerc', 'rootdistpar', 'CanopyGapFraction', 'MaxCanopyStorage', 'EoverR', 'N', 'N_river', 'cf_soil', 'TTI', 'TT', 'Cfmax', 'WHC', 'w_soil', 'Altitude', 'Bw', 'River', 'DLC', 'IF', 'timestepsecs']\n"
     ]
    },
    {
     "ename": "TypeError",
     "evalue": "Image data can not convert to float",
     "output_type": "error",
     "traceback": [
      "\u001b[1;31m---------------------------------------------------------------------------\u001b[0m",
      "\u001b[1;31mTypeError\u001b[0m                                 Traceback (most recent call last)",
      "\u001b[1;32m<ipython-input-21-cd6181db3e22>\u001b[0m in \u001b[0;36m<module>\u001b[1;34m()\u001b[0m\n\u001b[1;32m----> 1\u001b[1;33m \u001b[0mimshow\u001b[0m\u001b[1;33m(\u001b[0m\u001b[0mLA_model\u001b[0m\u001b[1;33m.\u001b[0m\u001b[0mget_value\u001b[0m\u001b[1;33m(\u001b[0m\u001b[1;34m\"Slope\"\u001b[0m\u001b[1;33m)\u001b[0m\u001b[1;33m)\u001b[0m\u001b[1;33m\u001b[0m\u001b[0m\n\u001b[0m",
      "\u001b[1;32m/home/jaap/anaconda/lib/python2.7/site-packages/matplotlib/pyplot.pyc\u001b[0m in \u001b[0;36mimshow\u001b[1;34m(X, cmap, norm, aspect, interpolation, alpha, vmin, vmax, origin, extent, shape, filternorm, filterrad, imlim, resample, url, hold, **kwargs)\u001b[0m\n\u001b[0;32m   2959\u001b[0m                         \u001b[0mvmax\u001b[0m\u001b[1;33m=\u001b[0m\u001b[0mvmax\u001b[0m\u001b[1;33m,\u001b[0m \u001b[0morigin\u001b[0m\u001b[1;33m=\u001b[0m\u001b[0morigin\u001b[0m\u001b[1;33m,\u001b[0m \u001b[0mextent\u001b[0m\u001b[1;33m=\u001b[0m\u001b[0mextent\u001b[0m\u001b[1;33m,\u001b[0m \u001b[0mshape\u001b[0m\u001b[1;33m=\u001b[0m\u001b[0mshape\u001b[0m\u001b[1;33m,\u001b[0m\u001b[1;33m\u001b[0m\u001b[0m\n\u001b[0;32m   2960\u001b[0m                         \u001b[0mfilternorm\u001b[0m\u001b[1;33m=\u001b[0m\u001b[0mfilternorm\u001b[0m\u001b[1;33m,\u001b[0m \u001b[0mfilterrad\u001b[0m\u001b[1;33m=\u001b[0m\u001b[0mfilterrad\u001b[0m\u001b[1;33m,\u001b[0m\u001b[1;33m\u001b[0m\u001b[0m\n\u001b[1;32m-> 2961\u001b[1;33m                         imlim=imlim, resample=resample, url=url, **kwargs)\n\u001b[0m\u001b[0;32m   2962\u001b[0m         \u001b[0mdraw_if_interactive\u001b[0m\u001b[1;33m(\u001b[0m\u001b[1;33m)\u001b[0m\u001b[1;33m\u001b[0m\u001b[0m\n\u001b[0;32m   2963\u001b[0m     \u001b[1;32mfinally\u001b[0m\u001b[1;33m:\u001b[0m\u001b[1;33m\u001b[0m\u001b[0m\n",
      "\u001b[1;32m/home/jaap/anaconda/lib/python2.7/site-packages/matplotlib/axes/_axes.pyc\u001b[0m in \u001b[0;36mimshow\u001b[1;34m(self, X, cmap, norm, aspect, interpolation, alpha, vmin, vmax, origin, extent, shape, filternorm, filterrad, imlim, resample, url, **kwargs)\u001b[0m\n\u001b[0;32m   4642\u001b[0m                        filterrad=filterrad, resample=resample, **kwargs)\n\u001b[0;32m   4643\u001b[0m \u001b[1;33m\u001b[0m\u001b[0m\n\u001b[1;32m-> 4644\u001b[1;33m         \u001b[0mim\u001b[0m\u001b[1;33m.\u001b[0m\u001b[0mset_data\u001b[0m\u001b[1;33m(\u001b[0m\u001b[0mX\u001b[0m\u001b[1;33m)\u001b[0m\u001b[1;33m\u001b[0m\u001b[0m\n\u001b[0m\u001b[0;32m   4645\u001b[0m         \u001b[0mim\u001b[0m\u001b[1;33m.\u001b[0m\u001b[0mset_alpha\u001b[0m\u001b[1;33m(\u001b[0m\u001b[0malpha\u001b[0m\u001b[1;33m)\u001b[0m\u001b[1;33m\u001b[0m\u001b[0m\n\u001b[0;32m   4646\u001b[0m         \u001b[1;32mif\u001b[0m \u001b[0mim\u001b[0m\u001b[1;33m.\u001b[0m\u001b[0mget_clip_path\u001b[0m\u001b[1;33m(\u001b[0m\u001b[1;33m)\u001b[0m \u001b[1;32mis\u001b[0m \u001b[0mNone\u001b[0m\u001b[1;33m:\u001b[0m\u001b[1;33m\u001b[0m\u001b[0m\n",
      "\u001b[1;32m/home/jaap/anaconda/lib/python2.7/site-packages/matplotlib/image.pyc\u001b[0m in \u001b[0;36mset_data\u001b[1;34m(self, A)\u001b[0m\n\u001b[0;32m    432\u001b[0m         if (self._A.dtype != np.uint8 and\n\u001b[0;32m    433\u001b[0m             not np.can_cast(self._A.dtype, np.float)):\n\u001b[1;32m--> 434\u001b[1;33m             \u001b[1;32mraise\u001b[0m \u001b[0mTypeError\u001b[0m\u001b[1;33m(\u001b[0m\u001b[1;34m\"Image data can not convert to float\"\u001b[0m\u001b[1;33m)\u001b[0m\u001b[1;33m\u001b[0m\u001b[0m\n\u001b[0m\u001b[0;32m    435\u001b[0m \u001b[1;33m\u001b[0m\u001b[0m\n\u001b[0;32m    436\u001b[0m         if (self._A.ndim not in (2, 3) or\n",
      "\u001b[1;31mTypeError\u001b[0m: Image data can not convert to float"
     ]
    },
    {
     "data": {
      "image/png": "[encoded data removed]",
      "text/plain": [
       "<matplotlib.figure.Figure at 0x7fa2f4ac0a50>"
      ]
     },
     "metadata": {},
     "output_type": "display_data"
    }
   ],
   "source": [
    "imshow(LA_model.get_value(\"Slope\"))"
   ]
  },
  {
   "cell_type": "code",
   "execution_count": 22,
   "metadata": {
    "collapsed": false
   },
   "outputs": [
    {
     "data": {
      "text/plain": [
       "<matplotlib.image.AxesImage at 0x7fa2f49bbdd0>"
      ]
     },
     "execution_count": 22,
     "metadata": {},
     "output_type": "execute_result"
    },
    {
     "data": {
      "image/png": "[encoded data removed]",
      "text/plain": [
       "<matplotlib.figure.Figure at 0x7fa2f668e790>"
      ]
     },
     "metadata": {},
     "output_type": "display_data"
    }
   ],
   "source": [
    "imshow(LA_model.get_value(\"FirstZoneDepth\"))"
   ]
  },
  {
   "cell_type": "code",
   "execution_count": 23,
   "metadata": {
    "collapsed": false
   },
   "outputs": [
    {
     "name": "stderr",
     "output_type": "stream",
     "text": [
      "2015-12-18 09:39:23,632 - wflow_bmi_logging - ERROR - get_value: TopoId not in list of output values ['CanopyStorage', 'FirstZoneDepth', 'LowerZoneStorage', 'Snow', 'SnowWater', 'SurfaceRunoff', 'SurfaceRunoffDyn', 'TSoil', 'UStoreDepth', 'WaterLevel', 'WaterLevelDyn', 'InwaterMM', 'M', 'thetaR', 'thetaS', 'FirstZoneKsatVer', 'PathFrac', 'InfiltCapSoil', 'InfiltCapPath', 'FirstZoneMinCapacity', 'FirstZoneCapacity', 'RootingDepth', 'MaxLeakage', 'CapScale', 'RunoffGeneratingGWPerc', 'rootdistpar', 'CanopyGapFraction', 'MaxCanopyStorage', 'EoverR', 'N', 'N_river', 'cf_soil', 'TTI', 'TT', 'Cfmax', 'WHC', 'w_soil', 'Altitude', 'Bw', 'River', 'DLC', 'IF', 'timestepsecs']\n",
      "2015-12-18 09:39:23,632 - wflow_bmi_logging - ERROR - get_value: TopoId not in list of output values ['CanopyStorage', 'FirstZoneDepth', 'LowerZoneStorage', 'Snow', 'SnowWater', 'SurfaceRunoff', 'SurfaceRunoffDyn', 'TSoil', 'UStoreDepth', 'WaterLevel', 'WaterLevelDyn', 'InwaterMM', 'M', 'thetaR', 'thetaS', 'FirstZoneKsatVer', 'PathFrac', 'InfiltCapSoil', 'InfiltCapPath', 'FirstZoneMinCapacity', 'FirstZoneCapacity', 'RootingDepth', 'MaxLeakage', 'CapScale', 'RunoffGeneratingGWPerc', 'rootdistpar', 'CanopyGapFraction', 'MaxCanopyStorage', 'EoverR', 'N', 'N_river', 'cf_soil', 'TTI', 'TT', 'Cfmax', 'WHC', 'w_soil', 'Altitude', 'Bw', 'River', 'DLC', 'IF', 'timestepsecs']\n",
      "2015-12-18 09:39:23,632 - wflow_bmi_logging - ERROR - get_value: TopoId not in list of output values ['CanopyStorage', 'FirstZoneDepth', 'LowerZoneStorage', 'Snow', 'SnowWater', 'SurfaceRunoff', 'SurfaceRunoffDyn', 'TSoil', 'UStoreDepth', 'WaterLevel', 'WaterLevelDyn', 'InwaterMM', 'M', 'thetaR', 'thetaS', 'FirstZoneKsatVer', 'PathFrac', 'InfiltCapSoil', 'InfiltCapPath', 'FirstZoneMinCapacity', 'FirstZoneCapacity', 'RootingDepth', 'MaxLeakage', 'CapScale', 'RunoffGeneratingGWPerc', 'rootdistpar', 'CanopyGapFraction', 'MaxCanopyStorage', 'EoverR', 'N', 'N_river', 'cf_soil', 'TTI', 'TT', 'Cfmax', 'WHC', 'w_soil', 'Altitude', 'Bw', 'River', 'DLC', 'IF', 'timestepsecs']\n",
      "2015-12-18 09:39:23,632 - wflow_bmi_logging - ERROR - get_value: TopoId not in list of output values ['CanopyStorage', 'FirstZoneDepth', 'LowerZoneStorage', 'Snow', 'SnowWater', 'SurfaceRunoff', 'SurfaceRunoffDyn', 'TSoil', 'UStoreDepth', 'WaterLevel', 'WaterLevelDyn', 'InwaterMM', 'M', 'thetaR', 'thetaS', 'FirstZoneKsatVer', 'PathFrac', 'InfiltCapSoil', 'InfiltCapPath', 'FirstZoneMinCapacity', 'FirstZoneCapacity', 'RootingDepth', 'MaxLeakage', 'CapScale', 'RunoffGeneratingGWPerc', 'rootdistpar', 'CanopyGapFraction', 'MaxCanopyStorage', 'EoverR', 'N', 'N_river', 'cf_soil', 'TTI', 'TT', 'Cfmax', 'WHC', 'w_soil', 'Altitude', 'Bw', 'River', 'DLC', 'IF', 'timestepsecs']\n",
      "ERROR:wflow_bmi_logging:get_value: TopoId not in list of output values ['CanopyStorage', 'FirstZoneDepth', 'LowerZoneStorage', 'Snow', 'SnowWater', 'SurfaceRunoff', 'SurfaceRunoffDyn', 'TSoil', 'UStoreDepth', 'WaterLevel', 'WaterLevelDyn', 'InwaterMM', 'M', 'thetaR', 'thetaS', 'FirstZoneKsatVer', 'PathFrac', 'InfiltCapSoil', 'InfiltCapPath', 'FirstZoneMinCapacity', 'FirstZoneCapacity', 'RootingDepth', 'MaxLeakage', 'CapScale', 'RunoffGeneratingGWPerc', 'rootdistpar', 'CanopyGapFraction', 'MaxCanopyStorage', 'EoverR', 'N', 'N_river', 'cf_soil', 'TTI', 'TT', 'Cfmax', 'WHC', 'w_soil', 'Altitude', 'Bw', 'River', 'DLC', 'IF', 'timestepsecs']\n"
     ]
    },
    {
     "ename": "TypeError",
     "evalue": "'NoneType' object does not support item assignment",
     "output_type": "error",
     "traceback": [
      "\u001b[1;31m---------------------------------------------------------------------------\u001b[0m",
      "\u001b[1;31mTypeError\u001b[0m                                 Traceback (most recent call last)",
      "\u001b[1;32m<ipython-input-23-93d59840db86>\u001b[0m in \u001b[0;36m<module>\u001b[1;34m()\u001b[0m\n\u001b[0;32m      1\u001b[0m \u001b[0ma\u001b[0m \u001b[1;33m=\u001b[0m\u001b[0mLA_model\u001b[0m\u001b[1;33m.\u001b[0m\u001b[0mget_value\u001b[0m\u001b[1;33m(\u001b[0m\u001b[1;34m\"TopoId\"\u001b[0m\u001b[1;33m)\u001b[0m\u001b[1;33m\u001b[0m\u001b[0m\n\u001b[1;32m----> 2\u001b[1;33m \u001b[0ma\u001b[0m\u001b[1;33m[\u001b[0m\u001b[0ma\u001b[0m\u001b[1;33m==\u001b[0m\u001b[1;33m-\u001b[0m\u001b[1;36m2147483648\u001b[0m\u001b[1;33m]\u001b[0m \u001b[1;33m=\u001b[0m \u001b[1;36m0\u001b[0m\u001b[1;33m\u001b[0m\u001b[0m\n\u001b[0m\u001b[0;32m      3\u001b[0m \u001b[0mimshow\u001b[0m\u001b[1;33m(\u001b[0m\u001b[0ma\u001b[0m\u001b[1;33m)\u001b[0m\u001b[1;33m\u001b[0m\u001b[0m\n",
      "\u001b[1;31mTypeError\u001b[0m: 'NoneType' object does not support item assignment"
     ]
    }
   ],
   "source": [
    "a =LA_model.get_value(\"TopoId\")\n",
    "a[a==-2147483648] = 0\n",
    "imshow(a)"
   ]
  },
  {
   "cell_type": "code",
   "execution_count": 24,
   "metadata": {
    "collapsed": false
   },
   "outputs": [
    {
     "data": {
      "text/plain": [
       "<matplotlib.image.AxesImage at 0x7fa2f48a9f50>"
      ]
     },
     "execution_count": 24,
     "metadata": {},
     "output_type": "execute_result"
    },
    {
     "data": {
      "image/png": "[encoded data removed]",
      "text/plain": [
       "<matplotlib.figure.Figure at 0x7fa2f4ad4290>"
      ]
     },
     "metadata": {},
     "output_type": "display_data"
    }
   ],
   "source": [
    "imshow(LA_model.get_value(\"River\"))"
   ]
  },
  {
   "cell_type": "markdown",
   "metadata": {},
   "source": [
    "<h3>Start and end times"
   ]
  },
  {
   "cell_type": "code",
   "execution_count": 25,
   "metadata": {
    "collapsed": false
   },
   "outputs": [
    {
     "data": {
      "text/plain": [
       "9999"
      ]
     },
     "execution_count": 25,
     "metadata": {},
     "output_type": "execute_result"
    }
   ],
   "source": [
    "t_end = RT_model.get_end_time()\n",
    "t_start = RT_model.get_start_time()\n",
    "t = RT_model.get_current_time()\n",
    "\n",
    "(t_end  - t_start)/(86400)\n"
   ]
  },
  {
   "cell_type": "markdown",
   "metadata": {},
   "source": [
    "<h3>Now start the models"
   ]
  },
  {
   "cell_type": "code",
   "execution_count": null,
   "metadata": {
    "collapsed": false
   },
   "outputs": [
    {
     "name": "stderr",
     "output_type": "stream",
     "text": [
      "2015-12-18 09:39:31,844 - wflow_bmi_logging - ERROR - get_value: SurfaceRunoff not in list of output values []\n",
      "2015-12-18 09:39:31,844 - wflow_bmi_logging - ERROR - get_value: SurfaceRunoff not in list of output values []\n",
      "2015-12-18 09:39:31,844 - wflow_bmi_logging - ERROR - get_value: SurfaceRunoff not in list of output values []\n",
      "2015-12-18 09:39:31,844 - wflow_bmi_logging - ERROR - get_value: SurfaceRunoff not in list of output values []\n",
      "ERROR:wflow_bmi_logging:get_value: SurfaceRunoff not in list of output values []\n",
      "2015-12-18 09:39:32,075 - wflow_bmi_logging - ERROR - get_value: SurfaceRunoff not in list of output values []\n",
      "2015-12-18 09:39:32,075 - wflow_bmi_logging - ERROR - get_value: SurfaceRunoff not in list of output values []\n",
      "2015-12-18 09:39:32,075 - wflow_bmi_logging - ERROR - get_value: SurfaceRunoff not in list of output values []\n",
      "2015-12-18 09:39:32,075 - wflow_bmi_logging - ERROR - get_value: SurfaceRunoff not in list of output values []\n",
      "ERROR:wflow_bmi_logging:get_value: SurfaceRunoff not in list of output values []\n"
     ]
    },
    {
     "name": "stdout",
     "output_type": "stream",
     "text": [
      "1990-01-02 01:00:00\n",
      "1990-01-03 01:00:00"
     ]
    },
    {
     "name": "stderr",
     "output_type": "stream",
     "text": [
      "2015-12-18 09:39:32,314 - wflow_bmi_logging - ERROR - get_value: SurfaceRunoff not in list of output values []\n",
      "2015-12-18 09:39:32,314 - wflow_bmi_logging - ERROR - get_value: SurfaceRunoff not in list of output values []\n",
      "2015-12-18 09:39:32,314 - wflow_bmi_logging - ERROR - get_value: SurfaceRunoff not in list of output values []\n",
      "2015-12-18 09:39:32,314 - wflow_bmi_logging - ERROR - get_value: SurfaceRunoff not in list of output values []\n",
      "ERROR:wflow_bmi_logging:get_value: SurfaceRunoff not in list of output values []\n"
     ]
    },
    {
     "name": "stdout",
     "output_type": "stream",
     "text": [
      "\n",
      "1990-01-04 01:00:00"
     ]
    },
    {
     "name": "stderr",
     "output_type": "stream",
     "text": [
      "2015-12-18 09:39:32,548 - wflow_bmi_logging - ERROR - get_value: SurfaceRunoff not in list of output values []\n",
      "2015-12-18 09:39:32,548 - wflow_bmi_logging - ERROR - get_value: SurfaceRunoff not in list of output values []\n",
      "2015-12-18 09:39:32,548 - wflow_bmi_logging - ERROR - get_value: SurfaceRunoff not in list of output values []\n",
      "2015-12-18 09:39:32,548 - wflow_bmi_logging - ERROR - get_value: SurfaceRunoff not in list of output values []\n",
      "ERROR:wflow_bmi_logging:get_value: SurfaceRunoff not in list of output values []\n"
     ]
    },
    {
     "name": "stdout",
     "output_type": "stream",
     "text": [
      "\n",
      "1990-01-05 01:00:00"
     ]
    },
    {
     "name": "stderr",
     "output_type": "stream",
     "text": [
      "2015-12-18 09:39:32,778 - wflow_bmi_logging - ERROR - get_value: SurfaceRunoff not in list of output values []\n",
      "2015-12-18 09:39:32,778 - wflow_bmi_logging - ERROR - get_value: SurfaceRunoff not in list of output values []\n",
      "2015-12-18 09:39:32,778 - wflow_bmi_logging - ERROR - get_value: SurfaceRunoff not in list of output values []\n",
      "2015-12-18 09:39:32,778 - wflow_bmi_logging - ERROR - get_value: SurfaceRunoff not in list of output values []\n",
      "ERROR:wflow_bmi_logging:get_value: SurfaceRunoff not in list of output values []\n"
     ]
    },
    {
     "name": "stdout",
     "output_type": "stream",
     "text": [
      "\n",
      "1990-01-06 01:00:00"
     ]
    },
    {
     "name": "stderr",
     "output_type": "stream",
     "text": [
      "2015-12-18 09:39:33,023 - wflow_bmi_logging - ERROR - get_value: SurfaceRunoff not in list of output values []\n",
      "2015-12-18 09:39:33,023 - wflow_bmi_logging - ERROR - get_value: SurfaceRunoff not in list of output values []\n",
      "2015-12-18 09:39:33,023 - wflow_bmi_logging - ERROR - get_value: SurfaceRunoff not in list of output values []\n",
      "2015-12-18 09:39:33,023 - wflow_bmi_logging - ERROR - get_value: SurfaceRunoff not in list of output values []\n",
      "ERROR:wflow_bmi_logging:get_value: SurfaceRunoff not in list of output values []\n"
     ]
    },
    {
     "name": "stdout",
     "output_type": "stream",
     "text": [
      "\n",
      "1990-01-07 01:00:00"
     ]
    },
    {
     "name": "stderr",
     "output_type": "stream",
     "text": [
      "2015-12-18 09:39:33,265 - wflow_bmi_logging - ERROR - get_value: SurfaceRunoff not in list of output values []\n",
      "2015-12-18 09:39:33,265 - wflow_bmi_logging - ERROR - get_value: SurfaceRunoff not in list of output values []\n",
      "2015-12-18 09:39:33,265 - wflow_bmi_logging - ERROR - get_value: SurfaceRunoff not in list of output values []\n",
      "2015-12-18 09:39:33,265 - wflow_bmi_logging - ERROR - get_value: SurfaceRunoff not in list of output values []\n",
      "ERROR:wflow_bmi_logging:get_value: SurfaceRunoff not in list of output values []\n"
     ]
    },
    {
     "name": "stdout",
     "output_type": "stream",
     "text": [
      "\n",
      "1990-01-08 01:00:00"
     ]
    },
    {
     "name": "stderr",
     "output_type": "stream",
     "text": [
      "2015-12-18 09:39:33,505 - wflow_bmi_logging - ERROR - get_value: SurfaceRunoff not in list of output values []\n",
      "2015-12-18 09:39:33,505 - wflow_bmi_logging - ERROR - get_value: SurfaceRunoff not in list of output values []\n",
      "2015-12-18 09:39:33,505 - wflow_bmi_logging - ERROR - get_value: SurfaceRunoff not in list of output values []\n",
      "2015-12-18 09:39:33,505 - wflow_bmi_logging - ERROR - get_value: SurfaceRunoff not in list of output values []\n",
      "ERROR:wflow_bmi_logging:get_value: SurfaceRunoff not in list of output values []\n"
     ]
    },
    {
     "name": "stdout",
     "output_type": "stream",
     "text": [
      "\n",
      "1990-01-09 01:00:00"
     ]
    },
    {
     "name": "stderr",
     "output_type": "stream",
     "text": [
      "2015-12-18 09:39:33,745 - wflow_bmi_logging - ERROR - get_value: SurfaceRunoff not in list of output values []\n",
      "2015-12-18 09:39:33,745 - wflow_bmi_logging - ERROR - get_value: SurfaceRunoff not in list of output values []\n",
      "2015-12-18 09:39:33,745 - wflow_bmi_logging - ERROR - get_value: SurfaceRunoff not in list of output values []\n",
      "2015-12-18 09:39:33,745 - wflow_bmi_logging - ERROR - get_value: SurfaceRunoff not in list of output values []\n",
      "ERROR:wflow_bmi_logging:get_value: SurfaceRunoff not in list of output values []\n"
     ]
    },
    {
     "name": "stdout",
     "output_type": "stream",
     "text": [
      "\n",
      "1990-01-10 01:00:00"
     ]
    },
    {
     "name": "stderr",
     "output_type": "stream",
     "text": [
      "2015-12-18 09:39:33,979 - wflow_bmi_logging - ERROR - get_value: SurfaceRunoff not in list of output values []\n",
      "2015-12-18 09:39:33,979 - wflow_bmi_logging - ERROR - get_value: SurfaceRunoff not in list of output values []\n",
      "2015-12-18 09:39:33,979 - wflow_bmi_logging - ERROR - get_value: SurfaceRunoff not in list of output values []\n",
      "2015-12-18 09:39:33,979 - wflow_bmi_logging - ERROR - get_value: SurfaceRunoff not in list of output values []\n",
      "ERROR:wflow_bmi_logging:get_value: SurfaceRunoff not in list of output values []\n"
     ]
    },
    {
     "name": "stdout",
     "output_type": "stream",
     "text": [
      "\n",
      "1990-01-11 01:00:00"
     ]
    },
    {
     "name": "stderr",
     "output_type": "stream",
     "text": [
      "2015-12-18 09:39:34,220 - wflow_bmi_logging - ERROR - get_value: SurfaceRunoff not in list of output values []\n",
      "2015-12-18 09:39:34,220 - wflow_bmi_logging - ERROR - get_value: SurfaceRunoff not in list of output values []\n",
      "2015-12-18 09:39:34,220 - wflow_bmi_logging - ERROR - get_value: SurfaceRunoff not in list of output values []\n",
      "2015-12-18 09:39:34,220 - wflow_bmi_logging - ERROR - get_value: SurfaceRunoff not in list of output values []\n",
      "ERROR:wflow_bmi_logging:get_value: SurfaceRunoff not in list of output values []\n"
     ]
    },
    {
     "name": "stdout",
     "output_type": "stream",
     "text": [
      "\n",
      "1990-01-12 01:00:00"
     ]
    },
    {
     "name": "stderr",
     "output_type": "stream",
     "text": [
      "2015-12-18 09:39:34,462 - wflow_bmi_logging - ERROR - get_value: SurfaceRunoff not in list of output values []\n",
      "2015-12-18 09:39:34,462 - wflow_bmi_logging - ERROR - get_value: SurfaceRunoff not in list of output values []\n",
      "2015-12-18 09:39:34,462 - wflow_bmi_logging - ERROR - get_value: SurfaceRunoff not in list of output values []\n",
      "2015-12-18 09:39:34,462 - wflow_bmi_logging - ERROR - get_value: SurfaceRunoff not in list of output values []\n",
      "ERROR:wflow_bmi_logging:get_value: SurfaceRunoff not in list of output values []\n"
     ]
    },
    {
     "name": "stdout",
     "output_type": "stream",
     "text": [
      "\n",
      "1990-01-13 01:00:00"
     ]
    },
    {
     "name": "stderr",
     "output_type": "stream",
     "text": [
      "2015-12-18 09:39:34,690 - wflow_bmi_logging - ERROR - get_value: SurfaceRunoff not in list of output values []\n",
      "2015-12-18 09:39:34,690 - wflow_bmi_logging - ERROR - get_value: SurfaceRunoff not in list of output values []\n",
      "2015-12-18 09:39:34,690 - wflow_bmi_logging - ERROR - get_value: SurfaceRunoff not in list of output values []\n",
      "2015-12-18 09:39:34,690 - wflow_bmi_logging - ERROR - get_value: SurfaceRunoff not in list of output values []\n",
      "ERROR:wflow_bmi_logging:get_value: SurfaceRunoff not in list of output values []\n"
     ]
    },
    {
     "name": "stdout",
     "output_type": "stream",
     "text": [
      "\n",
      "1990-01-14 01:00:00"
     ]
    },
    {
     "name": "stderr",
     "output_type": "stream",
     "text": [
      "2015-12-18 09:39:34,929 - wflow_bmi_logging - ERROR - get_value: SurfaceRunoff not in list of output values []\n",
      "2015-12-18 09:39:34,929 - wflow_bmi_logging - ERROR - get_value: SurfaceRunoff not in list of output values []\n",
      "2015-12-18 09:39:34,929 - wflow_bmi_logging - ERROR - get_value: SurfaceRunoff not in list of output values []\n",
      "2015-12-18 09:39:34,929 - wflow_bmi_logging - ERROR - get_value: SurfaceRunoff not in list of output values []\n",
      "ERROR:wflow_bmi_logging:get_value: SurfaceRunoff not in list of output values []\n"
     ]
    },
    {
     "name": "stdout",
     "output_type": "stream",
     "text": [
      "\n",
      "1990-01-15 01:00:00"
     ]
    },
    {
     "name": "stderr",
     "output_type": "stream",
     "text": [
      "2015-12-18 09:39:35,169 - wflow_bmi_logging - ERROR - get_value: SurfaceRunoff not in list of output values []\n",
      "2015-12-18 09:39:35,169 - wflow_bmi_logging - ERROR - get_value: SurfaceRunoff not in list of output values []\n",
      "2015-12-18 09:39:35,169 - wflow_bmi_logging - ERROR - get_value: SurfaceRunoff not in list of output values []\n",
      "2015-12-18 09:39:35,169 - wflow_bmi_logging - ERROR - get_value: SurfaceRunoff not in list of output values []\n",
      "ERROR:wflow_bmi_logging:get_value: SurfaceRunoff not in list of output values []\n"
     ]
    },
    {
     "name": "stdout",
     "output_type": "stream",
     "text": [
      "\n",
      "1990-01-16 01:00:00"
     ]
    },
    {
     "name": "stderr",
     "output_type": "stream",
     "text": [
      "2015-12-18 09:39:35,456 - wflow_bmi_logging - ERROR - get_value: SurfaceRunoff not in list of output values []\n",
      "2015-12-18 09:39:35,456 - wflow_bmi_logging - ERROR - get_value: SurfaceRunoff not in list of output values []\n",
      "2015-12-18 09:39:35,456 - wflow_bmi_logging - ERROR - get_value: SurfaceRunoff not in list of output values []\n",
      "2015-12-18 09:39:35,456 - wflow_bmi_logging - ERROR - get_value: SurfaceRunoff not in list of output values []\n",
      "ERROR:wflow_bmi_logging:get_value: SurfaceRunoff not in list of output values []\n"
     ]
    },
    {
     "name": "stdout",
     "output_type": "stream",
     "text": [
      "\n",
      "1990-01-17 01:00:00"
     ]
    },
    {
     "name": "stderr",
     "output_type": "stream",
     "text": [
      "2015-12-18 09:39:35,703 - wflow_bmi_logging - ERROR - get_value: SurfaceRunoff not in list of output values []\n",
      "2015-12-18 09:39:35,703 - wflow_bmi_logging - ERROR - get_value: SurfaceRunoff not in list of output values []\n",
      "2015-12-18 09:39:35,703 - wflow_bmi_logging - ERROR - get_value: SurfaceRunoff not in list of output values []\n",
      "2015-12-18 09:39:35,703 - wflow_bmi_logging - ERROR - get_value: SurfaceRunoff not in list of output values []\n",
      "ERROR:wflow_bmi_logging:get_value: SurfaceRunoff not in list of output values []\n"
     ]
    },
    {
     "name": "stdout",
     "output_type": "stream",
     "text": [
      "\n",
      "1990-01-18 01:00:00"
     ]
    },
    {
     "name": "stderr",
     "output_type": "stream",
     "text": [
      "2015-12-18 09:39:35,940 - wflow_bmi_logging - ERROR - get_value: SurfaceRunoff not in list of output values []\n",
      "2015-12-18 09:39:35,940 - wflow_bmi_logging - ERROR - get_value: SurfaceRunoff not in list of output values []\n",
      "2015-12-18 09:39:35,940 - wflow_bmi_logging - ERROR - get_value: SurfaceRunoff not in list of output values []\n",
      "2015-12-18 09:39:35,940 - wflow_bmi_logging - ERROR - get_value: SurfaceRunoff not in list of output values []\n",
      "ERROR:wflow_bmi_logging:get_value: SurfaceRunoff not in list of output values []\n"
     ]
    },
    {
     "name": "stdout",
     "output_type": "stream",
     "text": [
      "\n",
      "1990-01-19 01:00:00"
     ]
    },
    {
     "name": "stderr",
     "output_type": "stream",
     "text": [
      "2015-12-18 09:39:36,175 - wflow_bmi_logging - ERROR - get_value: SurfaceRunoff not in list of output values []\n",
      "2015-12-18 09:39:36,175 - wflow_bmi_logging - ERROR - get_value: SurfaceRunoff not in list of output values []\n",
      "2015-12-18 09:39:36,175 - wflow_bmi_logging - ERROR - get_value: SurfaceRunoff not in list of output values []\n",
      "2015-12-18 09:39:36,175 - wflow_bmi_logging - ERROR - get_value: SurfaceRunoff not in list of output values []\n",
      "ERROR:wflow_bmi_logging:get_value: SurfaceRunoff not in list of output values []\n"
     ]
    },
    {
     "name": "stdout",
     "output_type": "stream",
     "text": [
      "\n",
      "1990-01-20 01:00:00"
     ]
    },
    {
     "name": "stderr",
     "output_type": "stream",
     "text": [
      "2015-12-18 09:39:36,413 - wflow_bmi_logging - ERROR - get_value: SurfaceRunoff not in list of output values []\n",
      "2015-12-18 09:39:36,413 - wflow_bmi_logging - ERROR - get_value: SurfaceRunoff not in list of output values []\n",
      "2015-12-18 09:39:36,413 - wflow_bmi_logging - ERROR - get_value: SurfaceRunoff not in list of output values []\n",
      "2015-12-18 09:39:36,413 - wflow_bmi_logging - ERROR - get_value: SurfaceRunoff not in list of output values []\n",
      "ERROR:wflow_bmi_logging:get_value: SurfaceRunoff not in list of output values []\n"
     ]
    },
    {
     "name": "stdout",
     "output_type": "stream",
     "text": [
      "\n",
      "1990-01-21 01:00:00"
     ]
    },
    {
     "name": "stderr",
     "output_type": "stream",
     "text": [
      "2015-12-18 09:39:36,650 - wflow_bmi_logging - ERROR - get_value: SurfaceRunoff not in list of output values []\n",
      "2015-12-18 09:39:36,650 - wflow_bmi_logging - ERROR - get_value: SurfaceRunoff not in list of output values []\n",
      "2015-12-18 09:39:36,650 - wflow_bmi_logging - ERROR - get_value: SurfaceRunoff not in list of output values []\n",
      "2015-12-18 09:39:36,650 - wflow_bmi_logging - ERROR - get_value: SurfaceRunoff not in list of output values []\n",
      "ERROR:wflow_bmi_logging:get_value: SurfaceRunoff not in list of output values []\n"
     ]
    },
    {
     "name": "stdout",
     "output_type": "stream",
     "text": [
      "\n",
      "1990-01-22 01:00:00"
     ]
    },
    {
     "name": "stderr",
     "output_type": "stream",
     "text": [
      "2015-12-18 09:39:36,919 - wflow_bmi_logging - ERROR - get_value: SurfaceRunoff not in list of output values []\n",
      "2015-12-18 09:39:36,919 - wflow_bmi_logging - ERROR - get_value: SurfaceRunoff not in list of output values []\n",
      "2015-12-18 09:39:36,919 - wflow_bmi_logging - ERROR - get_value: SurfaceRunoff not in list of output values []\n",
      "2015-12-18 09:39:36,919 - wflow_bmi_logging - ERROR - get_value: SurfaceRunoff not in list of output values []\n",
      "ERROR:wflow_bmi_logging:get_value: SurfaceRunoff not in list of output values []\n"
     ]
    },
    {
     "name": "stdout",
     "output_type": "stream",
     "text": [
      "\n",
      "1990-01-23 01:00:00"
     ]
    },
    {
     "name": "stderr",
     "output_type": "stream",
     "text": [
      "2015-12-18 09:39:37,157 - wflow_bmi_logging - ERROR - get_value: SurfaceRunoff not in list of output values []\n",
      "2015-12-18 09:39:37,157 - wflow_bmi_logging - ERROR - get_value: SurfaceRunoff not in list of output values []\n",
      "2015-12-18 09:39:37,157 - wflow_bmi_logging - ERROR - get_value: SurfaceRunoff not in list of output values []\n",
      "2015-12-18 09:39:37,157 - wflow_bmi_logging - ERROR - get_value: SurfaceRunoff not in list of output values []\n",
      "ERROR:wflow_bmi_logging:get_value: SurfaceRunoff not in list of output values []\n"
     ]
    },
    {
     "name": "stdout",
     "output_type": "stream",
     "text": [
      "\n",
      "1990-01-24 01:00:00"
     ]
    },
    {
     "name": "stderr",
     "output_type": "stream",
     "text": [
      "2015-12-18 09:39:37,402 - wflow_bmi_logging - ERROR - get_value: SurfaceRunoff not in list of output values []\n",
      "2015-12-18 09:39:37,402 - wflow_bmi_logging - ERROR - get_value: SurfaceRunoff not in list of output values []\n",
      "2015-12-18 09:39:37,402 - wflow_bmi_logging - ERROR - get_value: SurfaceRunoff not in list of output values []\n",
      "2015-12-18 09:39:37,402 - wflow_bmi_logging - ERROR - get_value: SurfaceRunoff not in list of output values []\n",
      "ERROR:wflow_bmi_logging:get_value: SurfaceRunoff not in list of output values []\n"
     ]
    },
    {
     "name": "stdout",
     "output_type": "stream",
     "text": [
      "\n",
      "1990-01-25 01:00:00"
     ]
    },
    {
     "name": "stderr",
     "output_type": "stream",
     "text": [
      "2015-12-18 09:39:37,646 - wflow_bmi_logging - ERROR - get_value: SurfaceRunoff not in list of output values []\n",
      "2015-12-18 09:39:37,646 - wflow_bmi_logging - ERROR - get_value: SurfaceRunoff not in list of output values []\n",
      "2015-12-18 09:39:37,646 - wflow_bmi_logging - ERROR - get_value: SurfaceRunoff not in list of output values []\n",
      "2015-12-18 09:39:37,646 - wflow_bmi_logging - ERROR - get_value: SurfaceRunoff not in list of output values []\n",
      "ERROR:wflow_bmi_logging:get_value: SurfaceRunoff not in list of output values []\n"
     ]
    },
    {
     "name": "stdout",
     "output_type": "stream",
     "text": [
      "\n",
      "1990-01-26 01:00:00"
     ]
    },
    {
     "name": "stderr",
     "output_type": "stream",
     "text": [
      "2015-12-18 09:39:37,893 - wflow_bmi_logging - ERROR - get_value: SurfaceRunoff not in list of output values []\n",
      "2015-12-18 09:39:37,893 - wflow_bmi_logging - ERROR - get_value: SurfaceRunoff not in list of output values []\n",
      "2015-12-18 09:39:37,893 - wflow_bmi_logging - ERROR - get_value: SurfaceRunoff not in list of output values []\n",
      "2015-12-18 09:39:37,893 - wflow_bmi_logging - ERROR - get_value: SurfaceRunoff not in list of output values []\n",
      "ERROR:wflow_bmi_logging:get_value: SurfaceRunoff not in list of output values []\n"
     ]
    },
    {
     "name": "stdout",
     "output_type": "stream",
     "text": [
      "\n",
      "1990-01-27 01:00:00"
     ]
    },
    {
     "name": "stderr",
     "output_type": "stream",
     "text": [
      "2015-12-18 09:39:38,134 - wflow_bmi_logging - ERROR - get_value: SurfaceRunoff not in list of output values []\n",
      "2015-12-18 09:39:38,134 - wflow_bmi_logging - ERROR - get_value: SurfaceRunoff not in list of output values []\n",
      "2015-12-18 09:39:38,134 - wflow_bmi_logging - ERROR - get_value: SurfaceRunoff not in list of output values []\n",
      "2015-12-18 09:39:38,134 - wflow_bmi_logging - ERROR - get_value: SurfaceRunoff not in list of output values []\n",
      "ERROR:wflow_bmi_logging:get_value: SurfaceRunoff not in list of output values []\n"
     ]
    },
    {
     "name": "stdout",
     "output_type": "stream",
     "text": [
      "\n",
      "1990-01-28 01:00:00"
     ]
    },
    {
     "name": "stderr",
     "output_type": "stream",
     "text": [
      "2015-12-18 09:39:38,368 - wflow_bmi_logging - ERROR - get_value: SurfaceRunoff not in list of output values []\n",
      "2015-12-18 09:39:38,368 - wflow_bmi_logging - ERROR - get_value: SurfaceRunoff not in list of output values []\n",
      "2015-12-18 09:39:38,368 - wflow_bmi_logging - ERROR - get_value: SurfaceRunoff not in list of output values []\n",
      "2015-12-18 09:39:38,368 - wflow_bmi_logging - ERROR - get_value: SurfaceRunoff not in list of output values []\n",
      "ERROR:wflow_bmi_logging:get_value: SurfaceRunoff not in list of output values []\n"
     ]
    },
    {
     "name": "stdout",
     "output_type": "stream",
     "text": [
      "\n",
      "1990-01-29 01:00:00"
     ]
    },
    {
     "name": "stderr",
     "output_type": "stream",
     "text": [
      "2015-12-18 09:39:38,602 - wflow_bmi_logging - ERROR - get_value: SurfaceRunoff not in list of output values []\n",
      "2015-12-18 09:39:38,602 - wflow_bmi_logging - ERROR - get_value: SurfaceRunoff not in list of output values []\n",
      "2015-12-18 09:39:38,602 - wflow_bmi_logging - ERROR - get_value: SurfaceRunoff not in list of output values []\n",
      "2015-12-18 09:39:38,602 - wflow_bmi_logging - ERROR - get_value: SurfaceRunoff not in list of output values []\n",
      "ERROR:wflow_bmi_logging:get_value: SurfaceRunoff not in list of output values []\n"
     ]
    },
    {
     "name": "stdout",
     "output_type": "stream",
     "text": [
      "\n",
      "1990-01-30 01:00:00"
     ]
    },
    {
     "name": "stderr",
     "output_type": "stream",
     "text": [
      "2015-12-18 09:39:38,838 - wflow_bmi_logging - ERROR - get_value: SurfaceRunoff not in list of output values []\n",
      "2015-12-18 09:39:38,838 - wflow_bmi_logging - ERROR - get_value: SurfaceRunoff not in list of output values []\n",
      "2015-12-18 09:39:38,838 - wflow_bmi_logging - ERROR - get_value: SurfaceRunoff not in list of output values []\n",
      "2015-12-18 09:39:38,838 - wflow_bmi_logging - ERROR - get_value: SurfaceRunoff not in list of output values []\n",
      "ERROR:wflow_bmi_logging:get_value: SurfaceRunoff not in list of output values []\n"
     ]
    },
    {
     "name": "stdout",
     "output_type": "stream",
     "text": [
      "\n",
      "1990-01-31 01:00:00"
     ]
    },
    {
     "name": "stderr",
     "output_type": "stream",
     "text": [
      "2015-12-18 09:39:39,068 - wflow_bmi_logging - ERROR - get_value: SurfaceRunoff not in list of output values []\n",
      "2015-12-18 09:39:39,068 - wflow_bmi_logging - ERROR - get_value: SurfaceRunoff not in list of output values []\n",
      "2015-12-18 09:39:39,068 - wflow_bmi_logging - ERROR - get_value: SurfaceRunoff not in list of output values []\n",
      "2015-12-18 09:39:39,068 - wflow_bmi_logging - ERROR - get_value: SurfaceRunoff not in list of output values []\n",
      "ERROR:wflow_bmi_logging:get_value: SurfaceRunoff not in list of output values []\n"
     ]
    },
    {
     "name": "stdout",
     "output_type": "stream",
     "text": [
      "\n",
      "1990-02-01 01:00:00"
     ]
    },
    {
     "name": "stderr",
     "output_type": "stream",
     "text": [
      "2015-12-18 09:39:39,300 - wflow_bmi_logging - ERROR - get_value: SurfaceRunoff not in list of output values []\n",
      "2015-12-18 09:39:39,300 - wflow_bmi_logging - ERROR - get_value: SurfaceRunoff not in list of output values []\n",
      "2015-12-18 09:39:39,300 - wflow_bmi_logging - ERROR - get_value: SurfaceRunoff not in list of output values []\n",
      "2015-12-18 09:39:39,300 - wflow_bmi_logging - ERROR - get_value: SurfaceRunoff not in list of output values []\n",
      "ERROR:wflow_bmi_logging:get_value: SurfaceRunoff not in list of output values []\n"
     ]
    },
    {
     "name": "stdout",
     "output_type": "stream",
     "text": [
      "\n",
      "1990-02-02 01:00:00"
     ]
    },
    {
     "name": "stderr",
     "output_type": "stream",
     "text": [
      "2015-12-18 09:39:39,531 - wflow_bmi_logging - ERROR - get_value: SurfaceRunoff not in list of output values []\n",
      "2015-12-18 09:39:39,531 - wflow_bmi_logging - ERROR - get_value: SurfaceRunoff not in list of output values []\n",
      "2015-12-18 09:39:39,531 - wflow_bmi_logging - ERROR - get_value: SurfaceRunoff not in list of output values []\n",
      "2015-12-18 09:39:39,531 - wflow_bmi_logging - ERROR - get_value: SurfaceRunoff not in list of output values []\n",
      "ERROR:wflow_bmi_logging:get_value: SurfaceRunoff not in list of output values []\n"
     ]
    },
    {
     "name": "stdout",
     "output_type": "stream",
     "text": [
      "\n",
      "1990-02-03 01:00:00"
     ]
    },
    {
     "name": "stderr",
     "output_type": "stream",
     "text": [
      "2015-12-18 09:39:39,771 - wflow_bmi_logging - ERROR - get_value: SurfaceRunoff not in list of output values []\n",
      "2015-12-18 09:39:39,771 - wflow_bmi_logging - ERROR - get_value: SurfaceRunoff not in list of output values []\n",
      "2015-12-18 09:39:39,771 - wflow_bmi_logging - ERROR - get_value: SurfaceRunoff not in list of output values []\n",
      "2015-12-18 09:39:39,771 - wflow_bmi_logging - ERROR - get_value: SurfaceRunoff not in list of output values []\n",
      "ERROR:wflow_bmi_logging:get_value: SurfaceRunoff not in list of output values []\n"
     ]
    },
    {
     "name": "stdout",
     "output_type": "stream",
     "text": [
      "\n",
      "1990-02-04 01:00:00"
     ]
    },
    {
     "name": "stderr",
     "output_type": "stream",
     "text": [
      "2015-12-18 09:39:40,007 - wflow_bmi_logging - ERROR - get_value: SurfaceRunoff not in list of output values []\n",
      "2015-12-18 09:39:40,007 - wflow_bmi_logging - ERROR - get_value: SurfaceRunoff not in list of output values []\n",
      "2015-12-18 09:39:40,007 - wflow_bmi_logging - ERROR - get_value: SurfaceRunoff not in list of output values []\n",
      "2015-12-18 09:39:40,007 - wflow_bmi_logging - ERROR - get_value: SurfaceRunoff not in list of output values []\n",
      "ERROR:wflow_bmi_logging:get_value: SurfaceRunoff not in list of output values []\n"
     ]
    },
    {
     "name": "stdout",
     "output_type": "stream",
     "text": [
      "\n",
      "1990-02-05 01:00:00"
     ]
    },
    {
     "name": "stderr",
     "output_type": "stream",
     "text": [
      "2015-12-18 09:39:40,236 - wflow_bmi_logging - ERROR - get_value: SurfaceRunoff not in list of output values []\n",
      "2015-12-18 09:39:40,236 - wflow_bmi_logging - ERROR - get_value: SurfaceRunoff not in list of output values []\n",
      "2015-12-18 09:39:40,236 - wflow_bmi_logging - ERROR - get_value: SurfaceRunoff not in list of output values []\n",
      "2015-12-18 09:39:40,236 - wflow_bmi_logging - ERROR - get_value: SurfaceRunoff not in list of output values []\n",
      "ERROR:wflow_bmi_logging:get_value: SurfaceRunoff not in list of output values []\n"
     ]
    },
    {
     "name": "stdout",
     "output_type": "stream",
     "text": [
      "\n",
      "1990-02-06 01:00:00"
     ]
    },
    {
     "name": "stderr",
     "output_type": "stream",
     "text": [
      "2015-12-18 09:39:40,466 - wflow_bmi_logging - ERROR - get_value: SurfaceRunoff not in list of output values []\n",
      "2015-12-18 09:39:40,466 - wflow_bmi_logging - ERROR - get_value: SurfaceRunoff not in list of output values []\n",
      "2015-12-18 09:39:40,466 - wflow_bmi_logging - ERROR - get_value: SurfaceRunoff not in list of output values []\n",
      "2015-12-18 09:39:40,466 - wflow_bmi_logging - ERROR - get_value: SurfaceRunoff not in list of output values []\n",
      "ERROR:wflow_bmi_logging:get_value: SurfaceRunoff not in list of output values []\n"
     ]
    },
    {
     "name": "stdout",
     "output_type": "stream",
     "text": [
      "\n",
      "1990-02-07 01:00:00"
     ]
    },
    {
     "name": "stderr",
     "output_type": "stream",
     "text": [
      "2015-12-18 09:39:40,698 - wflow_bmi_logging - ERROR - get_value: SurfaceRunoff not in list of output values []\n",
      "2015-12-18 09:39:40,698 - wflow_bmi_logging - ERROR - get_value: SurfaceRunoff not in list of output values []\n",
      "2015-12-18 09:39:40,698 - wflow_bmi_logging - ERROR - get_value: SurfaceRunoff not in list of output values []\n",
      "2015-12-18 09:39:40,698 - wflow_bmi_logging - ERROR - get_value: SurfaceRunoff not in list of output values []\n",
      "ERROR:wflow_bmi_logging:get_value: SurfaceRunoff not in list of output values []\n"
     ]
    },
    {
     "name": "stdout",
     "output_type": "stream",
     "text": [
      "\n",
      "1990-02-08 01:00:00"
     ]
    },
    {
     "name": "stderr",
     "output_type": "stream",
     "text": [
      "2015-12-18 09:39:40,931 - wflow_bmi_logging - ERROR - get_value: SurfaceRunoff not in list of output values []\n",
      "2015-12-18 09:39:40,931 - wflow_bmi_logging - ERROR - get_value: SurfaceRunoff not in list of output values []\n",
      "2015-12-18 09:39:40,931 - wflow_bmi_logging - ERROR - get_value: SurfaceRunoff not in list of output values []\n",
      "2015-12-18 09:39:40,931 - wflow_bmi_logging - ERROR - get_value: SurfaceRunoff not in list of output values []\n",
      "ERROR:wflow_bmi_logging:get_value: SurfaceRunoff not in list of output values []\n"
     ]
    },
    {
     "name": "stdout",
     "output_type": "stream",
     "text": [
      "\n",
      "1990-02-09 01:00:00"
     ]
    },
    {
     "name": "stderr",
     "output_type": "stream",
     "text": [
      "2015-12-18 09:39:41,160 - wflow_bmi_logging - ERROR - get_value: SurfaceRunoff not in list of output values []\n",
      "2015-12-18 09:39:41,160 - wflow_bmi_logging - ERROR - get_value: SurfaceRunoff not in list of output values []\n",
      "2015-12-18 09:39:41,160 - wflow_bmi_logging - ERROR - get_value: SurfaceRunoff not in list of output values []\n",
      "2015-12-18 09:39:41,160 - wflow_bmi_logging - ERROR - get_value: SurfaceRunoff not in list of output values []\n",
      "ERROR:wflow_bmi_logging:get_value: SurfaceRunoff not in list of output values []\n"
     ]
    },
    {
     "name": "stdout",
     "output_type": "stream",
     "text": [
      "\n",
      "1990-02-10 01:00:00"
     ]
    },
    {
     "name": "stderr",
     "output_type": "stream",
     "text": [
      "2015-12-18 09:39:41,386 - wflow_bmi_logging - ERROR - get_value: SurfaceRunoff not in list of output values []\n",
      "2015-12-18 09:39:41,386 - wflow_bmi_logging - ERROR - get_value: SurfaceRunoff not in list of output values []\n",
      "2015-12-18 09:39:41,386 - wflow_bmi_logging - ERROR - get_value: SurfaceRunoff not in list of output values []\n",
      "2015-12-18 09:39:41,386 - wflow_bmi_logging - ERROR - get_value: SurfaceRunoff not in list of output values []\n",
      "ERROR:wflow_bmi_logging:get_value: SurfaceRunoff not in list of output values []\n"
     ]
    },
    {
     "name": "stdout",
     "output_type": "stream",
     "text": [
      "\n",
      "1990-02-11 01:00:00"
     ]
    },
    {
     "name": "stderr",
     "output_type": "stream",
     "text": [
      "2015-12-18 09:39:41,632 - wflow_bmi_logging - ERROR - get_value: SurfaceRunoff not in list of output values []\n",
      "2015-12-18 09:39:41,632 - wflow_bmi_logging - ERROR - get_value: SurfaceRunoff not in list of output values []\n",
      "2015-12-18 09:39:41,632 - wflow_bmi_logging - ERROR - get_value: SurfaceRunoff not in list of output values []\n",
      "2015-12-18 09:39:41,632 - wflow_bmi_logging - ERROR - get_value: SurfaceRunoff not in list of output values []\n",
      "ERROR:wflow_bmi_logging:get_value: SurfaceRunoff not in list of output values []\n"
     ]
    },
    {
     "name": "stdout",
     "output_type": "stream",
     "text": [
      "\n",
      "1990-02-12 01:00:00"
     ]
    },
    {
     "name": "stderr",
     "output_type": "stream",
     "text": [
      "2015-12-18 09:39:41,870 - wflow_bmi_logging - ERROR - get_value: SurfaceRunoff not in list of output values []\n",
      "2015-12-18 09:39:41,870 - wflow_bmi_logging - ERROR - get_value: SurfaceRunoff not in list of output values []\n",
      "2015-12-18 09:39:41,870 - wflow_bmi_logging - ERROR - get_value: SurfaceRunoff not in list of output values []\n",
      "2015-12-18 09:39:41,870 - wflow_bmi_logging - ERROR - get_value: SurfaceRunoff not in list of output values []\n",
      "ERROR:wflow_bmi_logging:get_value: SurfaceRunoff not in list of output values []\n"
     ]
    },
    {
     "name": "stdout",
     "output_type": "stream",
     "text": [
      "\n",
      "1990-02-13 01:00:00"
     ]
    },
    {
     "name": "stderr",
     "output_type": "stream",
     "text": [
      "2015-12-18 09:39:42,112 - wflow_bmi_logging - ERROR - get_value: SurfaceRunoff not in list of output values []\n",
      "2015-12-18 09:39:42,112 - wflow_bmi_logging - ERROR - get_value: SurfaceRunoff not in list of output values []\n",
      "2015-12-18 09:39:42,112 - wflow_bmi_logging - ERROR - get_value: SurfaceRunoff not in list of output values []\n",
      "2015-12-18 09:39:42,112 - wflow_bmi_logging - ERROR - get_value: SurfaceRunoff not in list of output values []\n",
      "ERROR:wflow_bmi_logging:get_value: SurfaceRunoff not in list of output values []\n"
     ]
    },
    {
     "name": "stdout",
     "output_type": "stream",
     "text": [
      "\n",
      "1990-02-14 01:00:00"
     ]
    }
   ],
   "source": [
    "t_end = RT_model.get_end_time()\n",
    "t = RT_model.get_start_time()\n",
    "\n",
    "res = []\n",
    "resq = []\n",
    "\n",
    "# Loop in time and put output of SBM in seperate routing module - 1way link\n",
    "while t < t_end:\n",
    "    LA_model.update()\n",
    "    # Now set the output from the LA model (specific Q) as input to the RT model\n",
    "    thevar = LA_model.get_value(\"InwaterMM\")\n",
    "    RT_model.set_value(\"IW\",thevar) # The IW is set in the wflow_routing.ini var as a forcing\n",
    "    RT_model.update()\n",
    "    resq.append(RT_model.get_value(\"SurfaceRunoff\"))\n",
    "    res.append(thevar)\n",
    "    t = RT_model.get_current_time()\n",
    "    \n",
    "    print datetime.datetime.fromtimestamp(t)\n"
   ]
  },
  {
   "cell_type": "code",
   "execution_count": null,
   "metadata": {
    "collapsed": false
   },
   "outputs": [],
   "source": [
    "LA_model.finalize()\n",
    "RT_model.finalize()"
   ]
  },
  {
   "cell_type": "markdown",
   "metadata": {},
   "source": [
    "<h4>Define function to view the results"
   ]
  },
  {
   "cell_type": "code",
   "execution_count": null,
   "metadata": {
    "collapsed": false
   },
   "outputs": [],
   "source": [
    "def browse_res(digits):\n",
    "    n = len(digits)\n",
    "    def view_image(i):\n",
    "        plt.imshow(log(digits[i]+1))\n",
    "        plt.title('Step: %d' % i)\n",
    "        plt.colorbar()\n",
    "        plt.show()\n",
    "    interact(view_image, i=(0,n-1))"
   ]
  },
  {
   "cell_type": "code",
   "execution_count": null,
   "metadata": {
    "collapsed": false
   },
   "outputs": [],
   "source": [
    "\n",
    "browse_res(res)\n"
   ]
  },
  {
   "cell_type": "code",
   "execution_count": null,
   "metadata": {
    "collapsed": false
   },
   "outputs": [],
   "source": [
    " browse_res(resq)"
   ]
  },
  {
   "cell_type": "code",
   "execution_count": null,
   "metadata": {
    "collapsed": true
   },
   "outputs": [],
   "source": []
  }
 ],
 "metadata": {
  "kernelspec": {
   "display_name": "Python 2",
   "language": "python",
   "name": "python2"
  },
  "language_info": {
   "codemirror_mode": {
    "name": "ipython",
    "version": 2
   },
   "file_extension": ".py",
   "mimetype": "text/x-python",
   "name": "python",
   "nbconvert_exporter": "python",
   "pygments_lexer": "ipython2",
   "version": "2.7.10"
  }
 },
 "nbformat": 4,
 "nbformat_minor": 0
}
